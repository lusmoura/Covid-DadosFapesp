{
 "cells": [
  {
   "cell_type": "code",
   "execution_count": 1,
   "metadata": {},
   "outputs": [],
   "source": [
    "import pandas as pd\n",
    "import numpy as np\n",
    "import matplotlib.pyplot as plt\n",
    "from scipy.cluster.hierarchy import dendrogram, linkage\n",
    "from sklearn.cluster import DBSCAN\n",
    "from sklearn.manifold import MDS\n",
    "import nltk\n",
    "import seaborn as sns\n",
    "import os\n",
    "from fuzzywuzzy import fuzz\n",
    "from itertools import combinations\n",
    "from datetime import date"
   ]
  },
  {
   "cell_type": "code",
   "execution_count": 2,
   "metadata": {},
   "outputs": [
    {
     "name": "stdout",
     "output_type": "stream",
     "text": [
      "'HSL_Dataset_Covid19_Dicionário de Dados.xlsx'\t hsl_lab_result_1.csv\r\n",
      "'HSL Dataset final.Zip'\t\t\t\t hsl_patient_1.csv\r\n",
      " hsl_desfecho_1.csv\t\t\t\t hsl_small_dataset_fapesp.zip\r\n"
     ]
    }
   ],
   "source": [
    "!ls '../Dados/SirioLibanes/'"
   ]
  },
  {
   "cell_type": "markdown",
   "metadata": {},
   "source": [
    "## Lendo datasets"
   ]
  },
  {
   "cell_type": "code",
   "execution_count": 3,
   "metadata": {},
   "outputs": [],
   "source": [
    "hsl_desfecho = pd.read_csv('../Dados/SirioLibanes/hsl_desfecho_1.csv', sep='|')\n",
    "hsl_pacientes = pd.read_csv('../Dados/SirioLibanes/hsl_patient_1.csv', sep='|')\n",
    "hsl_result = pd.read_csv('../Dados/SirioLibanes/hsl_lab_result_1.csv', sep='|')"
   ]
  },
  {
   "cell_type": "code",
   "execution_count": 4,
   "metadata": {},
   "outputs": [],
   "source": [
    "df = hsl_desfecho.query('de_tipo_atendimento == \"Internado\"')"
   ]
  },
  {
   "cell_type": "code",
   "execution_count": 5,
   "metadata": {},
   "outputs": [],
   "source": [
    "mask = (pd.to_datetime(df['dt_desfecho']) - pd.to_datetime(df['dt_atendimento'])).dt.days < 21\n",
    "patients = df[mask]"
   ]
  },
  {
   "cell_type": "code",
   "execution_count": 6,
   "metadata": {},
   "outputs": [
    {
     "data": {
      "text/html": [
       "<div>\n",
       "<style scoped>\n",
       "    .dataframe tbody tr th:only-of-type {\n",
       "        vertical-align: middle;\n",
       "    }\n",
       "\n",
       "    .dataframe tbody tr th {\n",
       "        vertical-align: top;\n",
       "    }\n",
       "\n",
       "    .dataframe thead th {\n",
       "        text-align: right;\n",
       "    }\n",
       "</style>\n",
       "<table border=\"1\" class=\"dataframe\">\n",
       "  <thead>\n",
       "    <tr style=\"text-align: right;\">\n",
       "      <th></th>\n",
       "      <th>id_paciente</th>\n",
       "      <th>id_atendimento</th>\n",
       "      <th>dt_atendimento</th>\n",
       "      <th>de_tipo_atendimento</th>\n",
       "      <th>id_clinica</th>\n",
       "      <th>de_clinica</th>\n",
       "      <th>dt_desfecho</th>\n",
       "      <th>de_desfecho</th>\n",
       "    </tr>\n",
       "  </thead>\n",
       "  <tbody>\n",
       "    <tr>\n",
       "      <th>1</th>\n",
       "      <td>11B85F4A508BF2FA4DB48A6E530C2A5B</td>\n",
       "      <td>E0DF701B39FE66906D23D7A6C45ED03C</td>\n",
       "      <td>2020-03-20</td>\n",
       "      <td>Internado</td>\n",
       "      <td>1</td>\n",
       "      <td>ClĂ­nica MĂŠdica</td>\n",
       "      <td>2020-03-23</td>\n",
       "      <td>Alta mĂŠdica melhorado</td>\n",
       "    </tr>\n",
       "    <tr>\n",
       "      <th>2</th>\n",
       "      <td>7138E7E758F88CD2050CBEB35664B3A3</td>\n",
       "      <td>572FC56B53CE1008F11B09DCA228B551</td>\n",
       "      <td>2020-05-10</td>\n",
       "      <td>Internado</td>\n",
       "      <td>1</td>\n",
       "      <td>ClĂ­nica MĂŠdica</td>\n",
       "      <td>2020-05-21</td>\n",
       "      <td>Alta mĂŠdica melhorado</td>\n",
       "    </tr>\n",
       "    <tr>\n",
       "      <th>14</th>\n",
       "      <td>6E0D3A03072223D21C37FAE4535B48D8</td>\n",
       "      <td>1F037F0DAF3AB9C54BB18E12DC517EAB</td>\n",
       "      <td>2020-03-30</td>\n",
       "      <td>Internado</td>\n",
       "      <td>1</td>\n",
       "      <td>ClĂ­nica MĂŠdica</td>\n",
       "      <td>2020-04-03</td>\n",
       "      <td>Alta mĂŠdica melhorado</td>\n",
       "    </tr>\n",
       "    <tr>\n",
       "      <th>46</th>\n",
       "      <td>CFAB00684BF2BEBC0218921B511B0727</td>\n",
       "      <td>1FF6911FA32C54766D6296817F62E9E1</td>\n",
       "      <td>2020-06-05</td>\n",
       "      <td>Internado</td>\n",
       "      <td>1</td>\n",
       "      <td>ClĂ­nica MĂŠdica</td>\n",
       "      <td>2020-06-18</td>\n",
       "      <td>Alta mĂŠdica melhorado</td>\n",
       "    </tr>\n",
       "    <tr>\n",
       "      <th>61</th>\n",
       "      <td>D6CADA50AA70957D3EE8ADB50DB81B21</td>\n",
       "      <td>B2EAD8C9327B2512DB084C953C9EDF08</td>\n",
       "      <td>2020-05-29</td>\n",
       "      <td>Internado</td>\n",
       "      <td>1</td>\n",
       "      <td>ClĂ­nica MĂŠdica</td>\n",
       "      <td>2020-06-01</td>\n",
       "      <td>Alta mĂŠdica melhorado</td>\n",
       "    </tr>\n",
       "    <tr>\n",
       "      <th>...</th>\n",
       "      <td>...</td>\n",
       "      <td>...</td>\n",
       "      <td>...</td>\n",
       "      <td>...</td>\n",
       "      <td>...</td>\n",
       "      <td>...</td>\n",
       "      <td>...</td>\n",
       "      <td>...</td>\n",
       "    </tr>\n",
       "    <tr>\n",
       "      <th>9580</th>\n",
       "      <td>8C048326E93A94589190693897CE3456</td>\n",
       "      <td>C351875771449F94F8356709A260CD4A</td>\n",
       "      <td>2020-05-01</td>\n",
       "      <td>Internado</td>\n",
       "      <td>1</td>\n",
       "      <td>ClĂ­nica MĂŠdica</td>\n",
       "      <td>2020-05-10</td>\n",
       "      <td>Alta mĂŠdica melhorado</td>\n",
       "    </tr>\n",
       "    <tr>\n",
       "      <th>9603</th>\n",
       "      <td>6DA9C4B2B4C2547A56BDBDC189DB5A99</td>\n",
       "      <td>DB1589CCCFFF0CE41B7DE709A7086038</td>\n",
       "      <td>2020-05-05</td>\n",
       "      <td>Internado</td>\n",
       "      <td>1</td>\n",
       "      <td>ClĂ­nica MĂŠdica</td>\n",
       "      <td>2020-05-25</td>\n",
       "      <td>Alta mĂŠdica melhorado</td>\n",
       "    </tr>\n",
       "    <tr>\n",
       "      <th>9615</th>\n",
       "      <td>A1E719AB163F89DDB1438107F6060703</td>\n",
       "      <td>B2F5FD7146D62B1BE5E9754ECABA2942</td>\n",
       "      <td>2020-03-03</td>\n",
       "      <td>Internado</td>\n",
       "      <td>2</td>\n",
       "      <td>Cirurgia</td>\n",
       "      <td>2020-03-05</td>\n",
       "      <td>Alta mĂŠdica melhorado</td>\n",
       "    </tr>\n",
       "    <tr>\n",
       "      <th>9616</th>\n",
       "      <td>A1E719AB163F89DDB1438107F6060703</td>\n",
       "      <td>AF9ED4212ECA173783C65CA9D14B4734</td>\n",
       "      <td>2020-03-24</td>\n",
       "      <td>Internado</td>\n",
       "      <td>1</td>\n",
       "      <td>ClĂ­nica MĂŠdica</td>\n",
       "      <td>2020-04-01</td>\n",
       "      <td>Alta mĂŠdica melhorado</td>\n",
       "    </tr>\n",
       "    <tr>\n",
       "      <th>9626</th>\n",
       "      <td>CF5130C7520106B129E56DAF36481968</td>\n",
       "      <td>C0858FBEA2ACF2D97BCB694C93484534</td>\n",
       "      <td>2020-05-08</td>\n",
       "      <td>Internado</td>\n",
       "      <td>1</td>\n",
       "      <td>ClĂ­nica MĂŠdica</td>\n",
       "      <td>2020-05-12</td>\n",
       "      <td>Alta mĂŠdica melhorado</td>\n",
       "    </tr>\n",
       "  </tbody>\n",
       "</table>\n",
       "<p>547 rows × 8 columns</p>\n",
       "</div>"
      ],
      "text/plain": [
       "                           id_paciente                    id_atendimento  \\\n",
       "1     11B85F4A508BF2FA4DB48A6E530C2A5B  E0DF701B39FE66906D23D7A6C45ED03C   \n",
       "2     7138E7E758F88CD2050CBEB35664B3A3  572FC56B53CE1008F11B09DCA228B551   \n",
       "14    6E0D3A03072223D21C37FAE4535B48D8  1F037F0DAF3AB9C54BB18E12DC517EAB   \n",
       "46    CFAB00684BF2BEBC0218921B511B0727  1FF6911FA32C54766D6296817F62E9E1   \n",
       "61    D6CADA50AA70957D3EE8ADB50DB81B21  B2EAD8C9327B2512DB084C953C9EDF08   \n",
       "...                                ...                               ...   \n",
       "9580  8C048326E93A94589190693897CE3456  C351875771449F94F8356709A260CD4A   \n",
       "9603  6DA9C4B2B4C2547A56BDBDC189DB5A99  DB1589CCCFFF0CE41B7DE709A7086038   \n",
       "9615  A1E719AB163F89DDB1438107F6060703  B2F5FD7146D62B1BE5E9754ECABA2942   \n",
       "9616  A1E719AB163F89DDB1438107F6060703  AF9ED4212ECA173783C65CA9D14B4734   \n",
       "9626  CF5130C7520106B129E56DAF36481968  C0858FBEA2ACF2D97BCB694C93484534   \n",
       "\n",
       "     dt_atendimento de_tipo_atendimento  id_clinica        de_clinica  \\\n",
       "1        2020-03-20           Internado           1  ClĂ­nica MĂŠdica   \n",
       "2        2020-05-10           Internado           1  ClĂ­nica MĂŠdica   \n",
       "14       2020-03-30           Internado           1  ClĂ­nica MĂŠdica   \n",
       "46       2020-06-05           Internado           1  ClĂ­nica MĂŠdica   \n",
       "61       2020-05-29           Internado           1  ClĂ­nica MĂŠdica   \n",
       "...             ...                 ...         ...               ...   \n",
       "9580     2020-05-01           Internado           1  ClĂ­nica MĂŠdica   \n",
       "9603     2020-05-05           Internado           1  ClĂ­nica MĂŠdica   \n",
       "9615     2020-03-03           Internado           2          Cirurgia   \n",
       "9616     2020-03-24           Internado           1  ClĂ­nica MĂŠdica   \n",
       "9626     2020-05-08           Internado           1  ClĂ­nica MĂŠdica   \n",
       "\n",
       "     dt_desfecho             de_desfecho  \n",
       "1     2020-03-23  Alta mĂŠdica melhorado  \n",
       "2     2020-05-21  Alta mĂŠdica melhorado  \n",
       "14    2020-04-03  Alta mĂŠdica melhorado  \n",
       "46    2020-06-18  Alta mĂŠdica melhorado  \n",
       "61    2020-06-01  Alta mĂŠdica melhorado  \n",
       "...          ...                     ...  \n",
       "9580  2020-05-10  Alta mĂŠdica melhorado  \n",
       "9603  2020-05-25  Alta mĂŠdica melhorado  \n",
       "9615  2020-03-05  Alta mĂŠdica melhorado  \n",
       "9616  2020-04-01  Alta mĂŠdica melhorado  \n",
       "9626  2020-05-12  Alta mĂŠdica melhorado  \n",
       "\n",
       "[547 rows x 8 columns]"
      ]
     },
     "execution_count": 6,
     "metadata": {},
     "output_type": "execute_result"
    }
   ],
   "source": [
    "patients"
   ]
  },
  {
   "cell_type": "code",
   "execution_count": 7,
   "metadata": {},
   "outputs": [],
   "source": [
    "aux = pd.merge(hsl_pacientes, patients, left_on=['id_paciente'], right_on=['id_paciente'])\n",
    "patients_merged = pd.merge(hsl_result, aux, left_on=['ID_PACIENTE', 'ID_ATENDIMENTO'], right_on=['id_paciente', 'id_atendimento'])"
   ]
  },
  {
   "cell_type": "code",
   "execution_count": 12,
   "metadata": {},
   "outputs": [
    {
     "data": {
      "text/plain": [
       "ID_PACIENTE             0.000000\n",
       "ID_ATENDIMENTO          0.000000\n",
       "DT_COLETA               0.000000\n",
       "DE_ORIGEM               0.000000\n",
       "DE_EXAME                0.000000\n",
       "DE_ANALITO              0.000000\n",
       "DE_RESULTADO            0.000000\n",
       "CD_UNIDADE             23.042560\n",
       "DE_VALOR_REFERENCIA    19.879114\n",
       "id_paciente             0.000000\n",
       "ic_sexo                 0.000000\n",
       "aa_nascimento           0.000000\n",
       "cd_pais                 1.204579\n",
       "cd_uf                   0.595153\n",
       "cd_municipio            0.000000\n",
       "cd_cep                  0.000000\n",
       "id_atendimento          0.000000\n",
       "dt_atendimento          0.000000\n",
       "de_tipo_atendimento     0.000000\n",
       "id_clinica              0.000000\n",
       "de_clinica              0.000000\n",
       "dt_desfecho             0.000000\n",
       "de_desfecho             0.000000\n",
       "dtype: float64"
      ]
     },
     "execution_count": 12,
     "metadata": {},
     "output_type": "execute_result"
    }
   ],
   "source": [
    "patients_merged.isna().sum() / len(patients_merged) * 100"
   ]
  }
 ],
 "metadata": {
  "kernelspec": {
   "display_name": "Python 3",
   "language": "python",
   "name": "python3"
  },
  "language_info": {
   "codemirror_mode": {
    "name": "ipython",
    "version": 3
   },
   "file_extension": ".py",
   "mimetype": "text/x-python",
   "name": "python",
   "nbconvert_exporter": "python",
   "pygments_lexer": "ipython3",
   "version": "3.8.5"
  },
  "toc": {
   "base_numbering": 1,
   "nav_menu": {},
   "number_sections": true,
   "sideBar": true,
   "skip_h1_title": false,
   "title_cell": "Table of Contents",
   "title_sidebar": "Contents",
   "toc_cell": false,
   "toc_position": {
    "height": "calc(100% - 180px)",
    "left": "10px",
    "top": "150px",
    "width": "352px"
   },
   "toc_section_display": true,
   "toc_window_display": false
  }
 },
 "nbformat": 4,
 "nbformat_minor": 2
}
