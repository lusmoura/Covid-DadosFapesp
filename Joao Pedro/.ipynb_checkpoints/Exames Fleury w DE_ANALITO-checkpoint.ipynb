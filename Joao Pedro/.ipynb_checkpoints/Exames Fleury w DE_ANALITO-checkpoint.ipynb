{
 "cells": [
  {
   "cell_type": "code",
   "execution_count": 5,
   "metadata": {},
   "outputs": [],
   "source": [
    "import pandas as pd\n",
    "import numpy as np\n",
    "import matplotlib.pyplot as plt\n",
    "import os"
   ]
  },
  {
   "cell_type": "code",
   "execution_count": 6,
   "metadata": {},
   "outputs": [
    {
     "name": "stdout",
     "output_type": "stream",
     "text": [
      " fleury.zip\r\n",
      "'Grupo_Fleury_Dataset_Covid19_Dicionário de Dados.xlsx'\r\n",
      " Grupo_Fleury_Dataset_Covid19_Pacientes.csv\r\n",
      " Grupo_Fleury_Dataset_Covid19_Resultados_Exames.csv\r\n"
     ]
    }
   ],
   "source": [
    "!ls '../Dados/Fleury/'"
   ]
  },
  {
   "cell_type": "markdown",
   "metadata": {},
   "source": [
    "## Lendo datasets"
   ]
  },
  {
   "cell_type": "code",
   "execution_count": 7,
   "metadata": {},
   "outputs": [],
   "source": [
    "fleury = pd.read_csv('../Dados/Fleury/Grupo_Fleury_Dataset_Covid19_Resultados_Exames.csv', sep='|', encoding = \"ISO-8859-1\")\n",
    "fleury_pacientes = pd.read_csv('../Dados/Fleury/Grupo_Fleury_Dataset_Covid19_Pacientes.csv', sep='|', encoding = \"ISO-8859-1\")\n",
    "fleury = fleury[['ID_PACIENTE', 'DT_COLETA', 'DE_ORIGEM', 'DE_EXAME', \n",
    "                       'DE_ANALITO', 'DE_RESULTADO', 'CD_UNIDADE', 'DE_VALOR_REFERENCIA']].copy()"
   ]
  },
  {
   "cell_type": "markdown",
   "metadata": {},
   "source": [
    "# EDA"
   ]
  },
  {
   "cell_type": "code",
   "execution_count": 8,
   "metadata": {},
   "outputs": [
    {
     "data": {
      "text/plain": [
       "F    56.650668\n",
       "M    43.349332\n",
       "Name: IC_SEXO, dtype: float64"
      ]
     },
     "execution_count": 8,
     "metadata": {},
     "output_type": "execute_result"
    }
   ],
   "source": [
    "fleury_pacientes['IC_SEXO'].value_counts() / fleury_pacientes['IC_SEXO'].value_counts().sum() * 100"
   ]
  },
  {
   "cell_type": "code",
   "execution_count": 9,
   "metadata": {},
   "outputs": [
    {
     "ename": "ValueError",
     "evalue": "Need to specify at least one of 'labels', 'index' or 'columns'",
     "output_type": "error",
     "traceback": [
      "\u001b[0;31m---------------------------------------------------------------------------\u001b[0m",
      "\u001b[0;31mValueError\u001b[0m                                Traceback (most recent call last)",
      "\u001b[0;32m<ipython-input-9-dbf02a36a09e>\u001b[0m in \u001b[0;36m<module>\u001b[0;34m\u001b[0m\n\u001b[0;32m----> 1\u001b[0;31m \u001b[0mfleury_pacientes\u001b[0m\u001b[0;34m[\u001b[0m\u001b[0;34m'AA_NASCIMENTO'\u001b[0m\u001b[0;34m]\u001b[0m\u001b[0;34m.\u001b[0m\u001b[0mdrop\u001b[0m\u001b[0;34m(\u001b[0m\u001b[0;34m)\u001b[0m\u001b[0;34m\u001b[0m\u001b[0;34m\u001b[0m\u001b[0m\n\u001b[0m",
      "\u001b[0;32m~/.local/lib/python3.8/site-packages/pandas/core/series.py\u001b[0m in \u001b[0;36mdrop\u001b[0;34m(self, labels, axis, index, columns, level, inplace, errors)\u001b[0m\n\u001b[1;32m   4130\u001b[0m         \u001b[0mdtype\u001b[0m\u001b[0;34m:\u001b[0m \u001b[0mfloat64\u001b[0m\u001b[0;34m\u001b[0m\u001b[0;34m\u001b[0m\u001b[0m\n\u001b[1;32m   4131\u001b[0m         \"\"\"\n\u001b[0;32m-> 4132\u001b[0;31m         return super().drop(\n\u001b[0m\u001b[1;32m   4133\u001b[0m             \u001b[0mlabels\u001b[0m\u001b[0;34m=\u001b[0m\u001b[0mlabels\u001b[0m\u001b[0;34m,\u001b[0m\u001b[0;34m\u001b[0m\u001b[0;34m\u001b[0m\u001b[0m\n\u001b[1;32m   4134\u001b[0m             \u001b[0maxis\u001b[0m\u001b[0;34m=\u001b[0m\u001b[0maxis\u001b[0m\u001b[0;34m,\u001b[0m\u001b[0;34m\u001b[0m\u001b[0;34m\u001b[0m\u001b[0m\n",
      "\u001b[0;32m~/.local/lib/python3.8/site-packages/pandas/core/generic.py\u001b[0m in \u001b[0;36mdrop\u001b[0;34m(self, labels, axis, index, columns, level, inplace, errors)\u001b[0m\n\u001b[1;32m   3926\u001b[0m             \u001b[0maxes\u001b[0m\u001b[0;34m,\u001b[0m \u001b[0m_\u001b[0m \u001b[0;34m=\u001b[0m \u001b[0mself\u001b[0m\u001b[0;34m.\u001b[0m\u001b[0m_construct_axes_from_arguments\u001b[0m\u001b[0;34m(\u001b[0m\u001b[0;34m(\u001b[0m\u001b[0mindex\u001b[0m\u001b[0;34m,\u001b[0m \u001b[0mcolumns\u001b[0m\u001b[0;34m)\u001b[0m\u001b[0;34m,\u001b[0m \u001b[0;34m{\u001b[0m\u001b[0;34m}\u001b[0m\u001b[0;34m)\u001b[0m\u001b[0;34m\u001b[0m\u001b[0;34m\u001b[0m\u001b[0m\n\u001b[1;32m   3927\u001b[0m         \u001b[0;32melse\u001b[0m\u001b[0;34m:\u001b[0m\u001b[0;34m\u001b[0m\u001b[0;34m\u001b[0m\u001b[0m\n\u001b[0;32m-> 3928\u001b[0;31m             raise ValueError(\n\u001b[0m\u001b[1;32m   3929\u001b[0m                 \u001b[0;34m\"Need to specify at least one of 'labels', 'index' or 'columns'\"\u001b[0m\u001b[0;34m\u001b[0m\u001b[0;34m\u001b[0m\u001b[0m\n\u001b[1;32m   3930\u001b[0m             )\n",
      "\u001b[0;31mValueError\u001b[0m: Need to specify at least one of 'labels', 'index' or 'columns'"
     ]
    }
   ],
   "source": [
    "fleury_pacientes['AA_NASCIMENTO'].drop()"
   ]
  },
  {
   "cell_type": "markdown",
   "metadata": {},
   "source": [
    "## Casos estranhos"
   ]
  },
  {
   "cell_type": "markdown",
   "metadata": {},
   "source": [
    "### Três valores de referência para o mesmo exame com mesmo analito"
   ]
  },
  {
   "cell_type": "code",
   "execution_count": 10,
   "metadata": {},
   "outputs": [
    {
     "data": {
      "text/plain": [
       "array(['inferior a 1,0', 'inferior a 0,8', 'inferior a 0,9', nan],\n",
       "      dtype=object)"
      ]
     },
     "execution_count": 10,
     "metadata": {},
     "output_type": "execute_result"
    }
   ],
   "source": [
    "fleury[(fleury['DE_ANALITO'] == 'Covid 19, Anticorpos IgG, Quimiolumin.-Índice') &\n",
    "       (fleury['DE_EXAME'] == 'COVID19, ANTICORPOS IgG, soro')]['DE_VALOR_REFERENCIA'].unique()"
   ]
  },
  {
   "cell_type": "markdown",
   "metadata": {},
   "source": [
    "## Processando"
   ]
  },
  {
   "cell_type": "code",
   "execution_count": 11,
   "metadata": {},
   "outputs": [],
   "source": [
    "fleury['DE_VALOR_REFERENCIA'] = fleury['DE_VALOR_REFERENCIA'].replace(np.nan, 'NaN')\n",
    "fleury['CD_UNIDADE'] = fleury['CD_UNIDADE'].replace(np.nan, 'NaN') "
   ]
  },
  {
   "cell_type": "code",
   "execution_count": 12,
   "metadata": {},
   "outputs": [],
   "source": [
    "fleury.loc[fleury['DE_VALOR_REFERENCIA'].str.contains('\\d+', regex=True), 'DE_RESULTADO'] = 'Number'"
   ]
  },
  {
   "cell_type": "code",
   "execution_count": 13,
   "metadata": {
    "scrolled": true
   },
   "outputs": [
    {
     "data": {
      "text/html": [
       "<div>\n",
       "<style scoped>\n",
       "    .dataframe tbody tr th:only-of-type {\n",
       "        vertical-align: middle;\n",
       "    }\n",
       "\n",
       "    .dataframe tbody tr th {\n",
       "        vertical-align: top;\n",
       "    }\n",
       "\n",
       "    .dataframe thead th {\n",
       "        text-align: right;\n",
       "    }\n",
       "</style>\n",
       "<table border=\"1\" class=\"dataframe\">\n",
       "  <thead>\n",
       "    <tr style=\"text-align: right;\">\n",
       "      <th></th>\n",
       "      <th>ID_PACIENTE</th>\n",
       "      <th>DT_COLETA</th>\n",
       "      <th>DE_ORIGEM</th>\n",
       "      <th>DE_EXAME</th>\n",
       "      <th>DE_ANALITO</th>\n",
       "      <th>DE_RESULTADO</th>\n",
       "      <th>CD_UNIDADE</th>\n",
       "      <th>DE_VALOR_REFERENCIA</th>\n",
       "    </tr>\n",
       "  </thead>\n",
       "  <tbody>\n",
       "    <tr>\n",
       "      <th>0</th>\n",
       "      <td>1AD07C7A1E4D80B608DD7A650766CCF0</td>\n",
       "      <td>19/03/2020</td>\n",
       "      <td>LAB</td>\n",
       "      <td>NOVO CORONAVÍRUS 2019 (SARS-CoV-2), DETECÇÃO P...</td>\n",
       "      <td>Covid 19, Detecção por PCR</td>\n",
       "      <td>NÃO DETECTADO</td>\n",
       "      <td>NaN</td>\n",
       "      <td>Não detectado</td>\n",
       "    </tr>\n",
       "    <tr>\n",
       "      <th>1</th>\n",
       "      <td>1AD07C7A1E4D80B608DD7A650766CCF0</td>\n",
       "      <td>19/03/2020</td>\n",
       "      <td>LAB</td>\n",
       "      <td>NOVO CORONAVÍRUS 2019 (SARS-CoV-2), DETECÇÃO P...</td>\n",
       "      <td>Covid 19, Material</td>\n",
       "      <td>raspado de nasofaringe</td>\n",
       "      <td>NaN</td>\n",
       "      <td>NaN</td>\n",
       "    </tr>\n",
       "    <tr>\n",
       "      <th>2</th>\n",
       "      <td>7B10786D64F27D7732503D915A38DE6F</td>\n",
       "      <td>30/12/2019</td>\n",
       "      <td>LAB</td>\n",
       "      <td>HEMOGRAMA, sangue total</td>\n",
       "      <td>Hemoglobina</td>\n",
       "      <td>Number</td>\n",
       "      <td>g/dL</td>\n",
       "      <td>13,5 a 17,5</td>\n",
       "    </tr>\n",
       "    <tr>\n",
       "      <th>3</th>\n",
       "      <td>7B10786D64F27D7732503D915A38DE6F</td>\n",
       "      <td>30/12/2019</td>\n",
       "      <td>LAB</td>\n",
       "      <td>HEMOGRAMA, sangue total</td>\n",
       "      <td>VCM</td>\n",
       "      <td>Number</td>\n",
       "      <td>fL</td>\n",
       "      <td>81,0 a 95,0</td>\n",
       "    </tr>\n",
       "    <tr>\n",
       "      <th>4</th>\n",
       "      <td>7B10786D64F27D7732503D915A38DE6F</td>\n",
       "      <td>30/12/2019</td>\n",
       "      <td>LAB</td>\n",
       "      <td>HEMOGRAMA, sangue total</td>\n",
       "      <td>Leucócitos</td>\n",
       "      <td>Number</td>\n",
       "      <td>/mm3</td>\n",
       "      <td>3.500 a 10.500</td>\n",
       "    </tr>\n",
       "  </tbody>\n",
       "</table>\n",
       "</div>"
      ],
      "text/plain": [
       "                        ID_PACIENTE   DT_COLETA DE_ORIGEM  \\\n",
       "0  1AD07C7A1E4D80B608DD7A650766CCF0  19/03/2020       LAB   \n",
       "1  1AD07C7A1E4D80B608DD7A650766CCF0  19/03/2020       LAB   \n",
       "2  7B10786D64F27D7732503D915A38DE6F  30/12/2019       LAB   \n",
       "3  7B10786D64F27D7732503D915A38DE6F  30/12/2019       LAB   \n",
       "4  7B10786D64F27D7732503D915A38DE6F  30/12/2019       LAB   \n",
       "\n",
       "                                            DE_EXAME  \\\n",
       "0  NOVO CORONAVÍRUS 2019 (SARS-CoV-2), DETECÇÃO P...   \n",
       "1  NOVO CORONAVÍRUS 2019 (SARS-CoV-2), DETECÇÃO P...   \n",
       "2                            HEMOGRAMA, sangue total   \n",
       "3                            HEMOGRAMA, sangue total   \n",
       "4                            HEMOGRAMA, sangue total   \n",
       "\n",
       "                   DE_ANALITO            DE_RESULTADO CD_UNIDADE  \\\n",
       "0  Covid 19, Detecção por PCR           NÃO DETECTADO        NaN   \n",
       "1          Covid 19, Material  raspado de nasofaringe        NaN   \n",
       "2                 Hemoglobina                  Number       g/dL   \n",
       "3                         VCM                  Number         fL   \n",
       "4                  Leucócitos                  Number       /mm3   \n",
       "\n",
       "  DE_VALOR_REFERENCIA  \n",
       "0       Não detectado  \n",
       "1                 NaN  \n",
       "2         13,5 a 17,5  \n",
       "3         81,0 a 95,0  \n",
       "4      3.500 a 10.500  "
      ]
     },
     "execution_count": 13,
     "metadata": {},
     "output_type": "execute_result"
    }
   ],
   "source": [
    "fleury.head()"
   ]
  },
  {
   "cell_type": "code",
   "execution_count": 14,
   "metadata": {},
   "outputs": [],
   "source": [
    "def check_float(string):\n",
    "    try:\n",
    "        number = float(string)\n",
    "        return 'Number'\n",
    "    except:\n",
    "        return string"
   ]
  },
  {
   "cell_type": "code",
   "execution_count": 15,
   "metadata": {},
   "outputs": [],
   "source": [
    "fleury['DE_RESULTADO'] = fleury['DE_RESULTADO'].str.replace(',', '.')\n",
    "fleury['DE_RESULTADO'] = fleury['DE_RESULTADO'].apply(lambda x: check_float(x))"
   ]
  },
  {
   "cell_type": "markdown",
   "metadata": {},
   "source": [
    "## Vários exames de COVID-19"
   ]
  },
  {
   "cell_type": "code",
   "execution_count": 16,
   "metadata": {},
   "outputs": [],
   "source": [
    "different_covid_exams = fleury[(fleury['DE_EXAME'].str.contains('COV')) | (fleury['DE_EXAME'].str.contains(\n",
    "    'Corona')) | (fleury['DE_EXAME'].str.contains('CORONAV'))]['DE_EXAME'].unique()"
   ]
  },
  {
   "cell_type": "code",
   "execution_count": 17,
   "metadata": {
    "scrolled": true
   },
   "outputs": [
    {
     "name": "stdout",
     "output_type": "stream",
     "text": [
      "NOVO CORONAVÍRUS 2019 (SARS-CoV-2), DETECÇÃO POR PCR\n",
      "COVID19, ANTICORPOS IgG, soro\n",
      "COVID19, ANTICORPOS IgM, soro\n",
      "COVID19, ANTICORPOS IgA, soro\n",
      "SARS-COV-2, ANTICORPOS IgG, soro\n"
     ]
    }
   ],
   "source": [
    "for exam in different_covid_exams:\n",
    "    print(exam)"
   ]
  },
  {
   "cell_type": "code",
   "execution_count": 18,
   "metadata": {},
   "outputs": [
    {
     "data": {
      "text/plain": [
       "5"
      ]
     },
     "execution_count": 18,
     "metadata": {},
     "output_type": "execute_result"
    }
   ],
   "source": [
    "different_covid_exams.size"
   ]
  },
  {
   "cell_type": "code",
   "execution_count": 19,
   "metadata": {},
   "outputs": [],
   "source": [
    "fleury['count'] = 1\n",
    "\n",
    "fleury_cov = fleury[fleury['DE_EXAME'].isin(different_covid_exams)].copy()\n",
    "fleury_cov = fleury_cov.groupby(\n",
    "    ['DE_EXAME', 'DE_ANALITO', 'DE_RESULTADO', 'CD_UNIDADE', 'DE_VALOR_REFERENCIA']).agg({'count': 'sum'})"
   ]
  },
  {
   "cell_type": "code",
   "execution_count": null,
   "metadata": {},
   "outputs": [],
   "source": [
    "fleury"
   ]
  },
  {
   "cell_type": "markdown",
   "metadata": {},
   "source": [
    "## Pivot Table "
   ]
  },
  {
   "cell_type": "code",
   "execution_count": null,
   "metadata": {
    "scrolled": false
   },
   "outputs": [],
   "source": [
    "pivot = fleury.pivot_table(index=['ID_PACIENTE', 'DT_COLETA'], columns='DE_EXAME', values='DE_RESULTADO', aggfunc=np.max)\n",
    "pivot"
   ]
  },
  {
   "cell_type": "code",
   "execution_count": null,
   "metadata": {},
   "outputs": [],
   "source": [
    "pivot.to_csv('pivot_caching.csv', index=False)"
   ]
  },
  {
   "cell_type": "markdown",
   "metadata": {},
   "source": [
    "## Grouping by instances"
   ]
  },
  {
   "cell_type": "markdown",
   "metadata": {},
   "source": [
    "When we group by intances, we're getting a distribuition of how many instances did a given exam."
   ]
  },
  {
   "cell_type": "code",
   "execution_count": 20,
   "metadata": {
    "scrolled": true
   },
   "outputs": [
    {
     "data": {
      "text/plain": [
       "HEMOGRAMA, sangue total                                 785838\n",
       "URINA TIPO I - JATO MEDIO                               206216\n",
       "COVID19, ANTICORPOS IgG, soro                           175728\n",
       "COVID19, ANTICORPOS IgM, soro                           168763\n",
       "NOVO CORONAVÍRUS 2019 (SARS-CoV-2), DETECÇÃO POR PCR    100518\n",
       "                                                         ...  \n",
       "IGE ESPECIFICO, G2 - GRAMA RASTEIRA, soro                    1\n",
       "ANTICORPOS ANTI-ANTIGENO PRECOCE DO VIRUS EB, soro           1\n",
       "VÍRUS DA FEBRE AMARELA, DETECÇÃO DO RNA POR PCR              1\n",
       "MUSCULO ESTRIADO, AUTO-ANTICORPOS, soro                      1\n",
       "IGE ESPECIFICO, F82 - QUEIJO CAMEMBERT, soro                 1\n",
       "Name: DE_EXAME, Length: 722, dtype: int64"
      ]
     },
     "execution_count": 20,
     "metadata": {},
     "output_type": "execute_result"
    }
   ],
   "source": [
    "values = fleury['DE_EXAME'].value_counts()\n",
    "values"
   ]
  },
  {
   "cell_type": "markdown",
   "metadata": {},
   "source": [
    "Each patient appears with the same exams many times..."
   ]
  },
  {
   "cell_type": "code",
   "execution_count": null,
   "metadata": {},
   "outputs": [],
   "source": [
    "fleury['ID_PACIENTE'].value_counts()"
   ]
  },
  {
   "cell_type": "markdown",
   "metadata": {},
   "source": [
    "## Grouping by patient and exam type"
   ]
  },
  {
   "cell_type": "markdown",
   "metadata": {},
   "source": [
    "We'll normalize our dataset in such a way that the tuple (ID_PACIENTE, DE_EXAME) becomes a single instance, in order to find out the most representative exams in terms of the distribuition of patients."
   ]
  },
  {
   "cell_type": "code",
   "execution_count": 22,
   "metadata": {},
   "outputs": [],
   "source": [
    "id_paciente_de_exame = fleury.groupby(['ID_PACIENTE', 'DE_EXAME', 'DE_ANALITO'], as_index=False).agg({'count':'sum'})"
   ]
  },
  {
   "cell_type": "markdown",
   "metadata": {},
   "source": [
    "<span style='color:red'>**Strange:**</span> Did someone _really_ do 660 hemograms?"
   ]
  },
  {
   "cell_type": "code",
   "execution_count": 23,
   "metadata": {},
   "outputs": [
    {
     "data": {
      "text/html": [
       "<div>\n",
       "<style scoped>\n",
       "    .dataframe tbody tr th:only-of-type {\n",
       "        vertical-align: middle;\n",
       "    }\n",
       "\n",
       "    .dataframe tbody tr th {\n",
       "        vertical-align: top;\n",
       "    }\n",
       "\n",
       "    .dataframe thead th {\n",
       "        text-align: right;\n",
       "    }\n",
       "</style>\n",
       "<table border=\"1\" class=\"dataframe\">\n",
       "  <thead>\n",
       "    <tr style=\"text-align: right;\">\n",
       "      <th></th>\n",
       "      <th>ID_PACIENTE</th>\n",
       "      <th>DE_EXAME</th>\n",
       "      <th>DE_ANALITO</th>\n",
       "      <th>count</th>\n",
       "    </tr>\n",
       "  </thead>\n",
       "  <tbody>\n",
       "    <tr>\n",
       "      <th>1915821</th>\n",
       "      <td>F0C7FF52C472F0815251B16B47553AAB</td>\n",
       "      <td>TEMPO DE PROTROMBINA, plasma</td>\n",
       "      <td>TP/INR</td>\n",
       "      <td>39</td>\n",
       "    </tr>\n",
       "    <tr>\n",
       "      <th>1915822</th>\n",
       "      <td>F0C7FF52C472F0815251B16B47553AAB</td>\n",
       "      <td>TEMPO DE PROTROMBINA, plasma</td>\n",
       "      <td>Tempo de Protrombina</td>\n",
       "      <td>39</td>\n",
       "    </tr>\n",
       "    <tr>\n",
       "      <th>1586627</th>\n",
       "      <td>C73948E212801903FD62A8335D69BBBA</td>\n",
       "      <td>SODIO, soro</td>\n",
       "      <td>Sódio</td>\n",
       "      <td>31</td>\n",
       "    </tr>\n",
       "    <tr>\n",
       "      <th>1586620</th>\n",
       "      <td>C73948E212801903FD62A8335D69BBBA</td>\n",
       "      <td>POTASSIO, soro</td>\n",
       "      <td>Potássio</td>\n",
       "      <td>31</td>\n",
       "    </tr>\n",
       "    <tr>\n",
       "      <th>627047</th>\n",
       "      <td>4EC221F2B48FFD9ADF0FAB7AD365ACF7</td>\n",
       "      <td>URINA TIPO I - JATO MEDIO</td>\n",
       "      <td>Proteínas, urina isolada</td>\n",
       "      <td>29</td>\n",
       "    </tr>\n",
       "    <tr>\n",
       "      <th>...</th>\n",
       "      <td>...</td>\n",
       "      <td>...</td>\n",
       "      <td>...</td>\n",
       "      <td>...</td>\n",
       "    </tr>\n",
       "    <tr>\n",
       "      <th>736752</th>\n",
       "      <td>5CBC87A43C145857277A63F49C6DC91F</td>\n",
       "      <td>COVID19, ANTICORPOS IgM, soro</td>\n",
       "      <td>Covid 19, Anticorpos IgM, Quimioluminescência</td>\n",
       "      <td>1</td>\n",
       "    </tr>\n",
       "    <tr>\n",
       "      <th>736751</th>\n",
       "      <td>5CBC87A43C145857277A63F49C6DC91F</td>\n",
       "      <td>COVID19, ANTICORPOS IgM, soro</td>\n",
       "      <td>Covid 19, Anticorpos IgM, Quimiolumin.-Índice</td>\n",
       "      <td>1</td>\n",
       "    </tr>\n",
       "    <tr>\n",
       "      <th>736750</th>\n",
       "      <td>5CBC87A43C145857277A63F49C6DC91F</td>\n",
       "      <td>COVID19, ANTICORPOS IgG, soro</td>\n",
       "      <td>Covid 19, Anticorpos IgG, Quimioluminescência</td>\n",
       "      <td>1</td>\n",
       "    </tr>\n",
       "    <tr>\n",
       "      <th>736749</th>\n",
       "      <td>5CBC87A43C145857277A63F49C6DC91F</td>\n",
       "      <td>COVID19, ANTICORPOS IgG, soro</td>\n",
       "      <td>Covid 19, Anticorpos IgG, Quimiolumin.-Índice</td>\n",
       "      <td>1</td>\n",
       "    </tr>\n",
       "    <tr>\n",
       "      <th>2035080</th>\n",
       "      <td>FFFFF4B47815FF61F542AF7D3351A200</td>\n",
       "      <td>NOVO CORONAVÍRUS 2019 (SARS-CoV-2), DETECÇÃO P...</td>\n",
       "      <td>Covid 19, Material</td>\n",
       "      <td>1</td>\n",
       "    </tr>\n",
       "  </tbody>\n",
       "</table>\n",
       "<p>2035081 rows × 4 columns</p>\n",
       "</div>"
      ],
      "text/plain": [
       "                              ID_PACIENTE  \\\n",
       "1915821  F0C7FF52C472F0815251B16B47553AAB   \n",
       "1915822  F0C7FF52C472F0815251B16B47553AAB   \n",
       "1586627  C73948E212801903FD62A8335D69BBBA   \n",
       "1586620  C73948E212801903FD62A8335D69BBBA   \n",
       "627047   4EC221F2B48FFD9ADF0FAB7AD365ACF7   \n",
       "...                                   ...   \n",
       "736752   5CBC87A43C145857277A63F49C6DC91F   \n",
       "736751   5CBC87A43C145857277A63F49C6DC91F   \n",
       "736750   5CBC87A43C145857277A63F49C6DC91F   \n",
       "736749   5CBC87A43C145857277A63F49C6DC91F   \n",
       "2035080  FFFFF4B47815FF61F542AF7D3351A200   \n",
       "\n",
       "                                                  DE_EXAME  \\\n",
       "1915821                       TEMPO DE PROTROMBINA, plasma   \n",
       "1915822                       TEMPO DE PROTROMBINA, plasma   \n",
       "1586627                                        SODIO, soro   \n",
       "1586620                                     POTASSIO, soro   \n",
       "627047                           URINA TIPO I - JATO MEDIO   \n",
       "...                                                    ...   \n",
       "736752                       COVID19, ANTICORPOS IgM, soro   \n",
       "736751                       COVID19, ANTICORPOS IgM, soro   \n",
       "736750                       COVID19, ANTICORPOS IgG, soro   \n",
       "736749                       COVID19, ANTICORPOS IgG, soro   \n",
       "2035080  NOVO CORONAVÍRUS 2019 (SARS-CoV-2), DETECÇÃO P...   \n",
       "\n",
       "                                            DE_ANALITO  count  \n",
       "1915821                                         TP/INR     39  \n",
       "1915822                           Tempo de Protrombina     39  \n",
       "1586627                                          Sódio     31  \n",
       "1586620                                       Potássio     31  \n",
       "627047                        Proteínas, urina isolada     29  \n",
       "...                                                ...    ...  \n",
       "736752   Covid 19, Anticorpos IgM, Quimioluminescência      1  \n",
       "736751   Covid 19, Anticorpos IgM, Quimiolumin.-Índice      1  \n",
       "736750   Covid 19, Anticorpos IgG, Quimioluminescência      1  \n",
       "736749   Covid 19, Anticorpos IgG, Quimiolumin.-Índice      1  \n",
       "2035080                             Covid 19, Material      1  \n",
       "\n",
       "[2035081 rows x 4 columns]"
      ]
     },
     "execution_count": 23,
     "metadata": {},
     "output_type": "execute_result"
    }
   ],
   "source": [
    "id_paciente_de_exame.sort_values(['count'], ascending=False)"
   ]
  },
  {
   "cell_type": "code",
   "execution_count": 29,
   "metadata": {},
   "outputs": [],
   "source": [
    "id_paciente_de_exame['count_exames_e_analitos'] = id_paciente_de_exame['DE_EXAME'] + \" - \" + id_paciente_de_exame['DE_ANALITO']\n",
    "exam_per_patient_distribuition = id_paciente_de_exame['count_exames_e_analitos'].value_counts() / id_paciente_de_exame['ID_PACIENTE'].nunique()"
   ]
  },
  {
   "cell_type": "code",
   "execution_count": 26,
   "metadata": {},
   "outputs": [
    {
     "data": {
      "text/plain": [
       "COVID19, ANTICORPOS IgG, soroCovid 19, Anticorpos IgG, Quimiolumin.-Índice        0.642178\n",
       "COVID19, ANTICORPOS IgM, soroCovid 19, Anticorpos IgM, Quimiolumin.-Índice        0.642070\n",
       "COVID19, ANTICORPOS IgG, soroCovid 19, Anticorpos IgG, Quimioluminescência        0.633474\n",
       "COVID19, ANTICORPOS IgM, soroCovid 19, Anticorpos IgM, Quimioluminescência        0.633350\n",
       "NOVO CORONAVÍRUS 2019 (SARS-CoV-2), DETECÇÃO POR PCRCovid 19, Detecção por PCR    0.371272\n",
       "                                                                                    ...   \n",
       "PESQUISA DE MICROSPORIDIA NAS FEZESMicrosporidia, pesquisa, fezes                 0.000008\n",
       "CISTICERCOSE, ANTICORPOS, soroCisticercose, IgG                                   0.000008\n",
       "URINA TIPO I - JATO FINALAspecto, urina                                           0.000008\n",
       "VÍRUS DA FEBRE AMARELA, DETECÇÃO DO RNA POR PCRFebre Amarela, PCR                 0.000008\n",
       "PAINEL SOROLOGICO PARA ENTEROVIRUSVirus Coxsackie - A9                            0.000008\n",
       "Name: count_exames_e_analitos, Length: 1279, dtype: float64"
      ]
     },
     "execution_count": 26,
     "metadata": {},
     "output_type": "execute_result"
    }
   ],
   "source": [
    "exam_per_patient_distribuition"
   ]
  },
  {
   "cell_type": "markdown",
   "metadata": {},
   "source": [
    "## Distribuition of the most important exams..."
   ]
  },
  {
   "cell_type": "code",
   "execution_count": null,
   "metadata": {},
   "outputs": [],
   "source": [
    "%%time\n",
    "grouped = id_paciente_de_exame.groupby('ID_PACIENTE')\n",
    "representative_exams_list = exam_per_patient_distribuition.index[:25].to_list()\n",
    "df = pd.DataFrame(columns=[\"ID_PACIENTE\", *representative_exams_list])\n",
    "\n",
    "instances = []\n",
    "\n",
    "for id_paciente, group in grouped:\n",
    "    aux = {'ID_PACIENTE':id_paciente}\n",
    "    \n",
    "    set1 = set(representative_exams_list)\n",
    "    set2 = set(group['count_exames_e_analitos'])\n",
    "    \n",
    "    intersection = set1.intersection(set2)\n",
    "    \n",
    "    aux.update({i : True for i in intersection})\n",
    "    \n",
    "    instances.append(aux)\n",
    "        \n",
    "df = df.append(instances)\n",
    "df.fillna(False, inplace=True)"
   ]
  },
  {
   "cell_type": "code",
   "execution_count": null,
   "metadata": {},
   "outputs": [],
   "source": [
    "df"
   ]
  },
  {
   "cell_type": "code",
   "execution_count": null,
   "metadata": {},
   "outputs": [],
   "source": [
    "df['COUNT_EXAMS'] = df[representative_exams_list].sum(axis=1)"
   ]
  },
  {
   "cell_type": "code",
   "execution_count": null,
   "metadata": {},
   "outputs": [],
   "source": [
    "df['COUNT_EXAMS'].value_counts()\n",
    "\n",
    "df.plot(kind='hist', by=['COUNT_EXAMS'], bins=len(representative_exams_list));"
   ]
  }
 ],
 "metadata": {
  "kernelspec": {
   "display_name": "Python 3",
   "language": "python",
   "name": "python3"
  },
  "language_info": {
   "codemirror_mode": {
    "name": "ipython",
    "version": 3
   },
   "file_extension": ".py",
   "mimetype": "text/x-python",
   "name": "python",
   "nbconvert_exporter": "python",
   "pygments_lexer": "ipython3",
   "version": "3.8.3"
  }
 },
 "nbformat": 4,
 "nbformat_minor": 2
}
