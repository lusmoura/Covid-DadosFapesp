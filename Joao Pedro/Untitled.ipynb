{
 "cells": [
  {
   "cell_type": "code",
   "execution_count": 1,
   "metadata": {},
   "outputs": [],
   "source": [
    "import pandas as pd"
   ]
  },
  {
   "cell_type": "code",
   "execution_count": 4,
   "metadata": {},
   "outputs": [
    {
     "name": "stdout",
     "output_type": "stream",
     "text": [
      "Einstein  Fleury  SirioLibanes\r\n"
     ]
    }
   ],
   "source": [
    "!ls ../Dados/"
   ]
  },
  {
   "cell_type": "code",
   "execution_count": 5,
   "metadata": {},
   "outputs": [
    {
     "name": "stdout",
     "output_type": "stream",
     "text": [
      " fleury.zip\r\n",
      "'Grupo_Fleury_Dataset_Covid19_Dicionário de Dados.xlsx'\r\n",
      " Grupo_Fleury_Dataset_Covid19_Pacientes.csv\r\n",
      " Grupo_Fleury_Dataset_Covid19_Resultados_Exames.csv\r\n"
     ]
    }
   ],
   "source": [
    "!ls ../Dados/Fleury/"
   ]
  },
  {
   "cell_type": "code",
   "execution_count": 6,
   "metadata": {},
   "outputs": [
    {
     "name": "stdout",
     "output_type": "stream",
     "text": [
      "EINSTEIN_DATASET_Covid19_DIC_DADOS.docx  einstein_small_dataset_exames.csv\r\n",
      "einstein_small_dataset_covid.zip\t einstein_small_dataset_paciente1.csv\r\n"
     ]
    }
   ],
   "source": [
    "!ls ../Dados/Einstein/"
   ]
  },
  {
   "cell_type": "code",
   "execution_count": 8,
   "metadata": {},
   "outputs": [
    {
     "name": "stdout",
     "output_type": "stream",
     "text": [
      "'HSL_Dataset_Covid19_Dicionário de Dados.xlsx'\t hsl_patient_1.csv\r\n",
      "'HSL Dataset final.Zip'\t\t\t\t hsl_small_dataset_fapesp.zip\r\n",
      " hsl_desfecho_1.csv\t\t\t\t small\r\n",
      " hsl_lab_result_1.csv\r\n"
     ]
    }
   ],
   "source": [
    "!ls ../Dados/SirioLibanes/"
   ]
  },
  {
   "cell_type": "code",
   "execution_count": 9,
   "metadata": {},
   "outputs": [],
   "source": [
    "fleury = pd.read_csv('../Dados/Fleury/Grupo_Fleury_Dataset_Covid19_Resultados_Exames.csv', sep='|', encoding = \"ISO-8859-1\")\n",
    "hsl = pd.read_csv('../Dados/SirioLibanes/hsl_lab_result_1.csv', sep='|', encoding = \"ISO-8859-1\")\n",
    "einstein = pd.read_csv('../Dados/Einstein/einstein_small_dataset_exames.csv', sep='|', encoding = \"ISO-8859-1\")"
   ]
  },
  {
   "cell_type": "code",
   "execution_count": 10,
   "metadata": {},
   "outputs": [
    {
     "data": {
      "text/html": [
       "<div>\n",
       "<style scoped>\n",
       "    .dataframe tbody tr th:only-of-type {\n",
       "        vertical-align: middle;\n",
       "    }\n",
       "\n",
       "    .dataframe tbody tr th {\n",
       "        vertical-align: top;\n",
       "    }\n",
       "\n",
       "    .dataframe thead th {\n",
       "        text-align: right;\n",
       "    }\n",
       "</style>\n",
       "<table border=\"1\" class=\"dataframe\">\n",
       "  <thead>\n",
       "    <tr style=\"text-align: right;\">\n",
       "      <th></th>\n",
       "      <th>id_paciente</th>\n",
       "      <th>dt_coleta</th>\n",
       "      <th>de_origem</th>\n",
       "      <th>de_exame</th>\n",
       "      <th>de_analito</th>\n",
       "      <th>de_resultado</th>\n",
       "      <th>cd_unidade</th>\n",
       "      <th>de_valor_referencia</th>\n",
       "    </tr>\n",
       "  </thead>\n",
       "  <tbody>\n",
       "    <tr>\n",
       "      <th>0</th>\n",
       "      <td>202018</td>\n",
       "      <td>13/06/2020</td>\n",
       "      <td>HOSP</td>\n",
       "      <td>PCR em tempo real para detecÃ§Ã£o de Coron</td>\n",
       "      <td>Resultado COVID-19:</td>\n",
       "      <td>NÃ£o detectado</td>\n",
       "      <td>NaN</td>\n",
       "      <td>NÃ£o detectado</td>\n",
       "    </tr>\n",
       "    <tr>\n",
       "      <th>1</th>\n",
       "      <td>202025</td>\n",
       "      <td>11/05/2020</td>\n",
       "      <td>HOSP</td>\n",
       "      <td>Sorologia SARS-CoV-2/COVID19 IgG/IgM</td>\n",
       "      <td>IgG, COVID19</td>\n",
       "      <td>0.07</td>\n",
       "      <td>AU/ml</td>\n",
       "      <td>&lt;=0.90</td>\n",
       "    </tr>\n",
       "    <tr>\n",
       "      <th>2</th>\n",
       "      <td>202025</td>\n",
       "      <td>11/05/2020</td>\n",
       "      <td>HOSP</td>\n",
       "      <td>Sorologia SARS-CoV-2/COVID19 IgG/IgM</td>\n",
       "      <td>COVID IgG Interp</td>\n",
       "      <td>NÃ£o reagente</td>\n",
       "      <td>NaN</td>\n",
       "      <td>NaN</td>\n",
       "    </tr>\n",
       "    <tr>\n",
       "      <th>3</th>\n",
       "      <td>202025</td>\n",
       "      <td>11/05/2020</td>\n",
       "      <td>HOSP</td>\n",
       "      <td>PCR em tempo real para detecÃ§Ã£o de Coron</td>\n",
       "      <td>Resultado COVID-19:</td>\n",
       "      <td>NÃ£o detectado</td>\n",
       "      <td>NaN</td>\n",
       "      <td>NÃ£o detectado</td>\n",
       "    </tr>\n",
       "    <tr>\n",
       "      <th>4</th>\n",
       "      <td>202025</td>\n",
       "      <td>11/05/2020</td>\n",
       "      <td>HOSP</td>\n",
       "      <td>Sorologia SARS-CoV-2/COVID19 IgG/IgM</td>\n",
       "      <td>IgM, COVID19</td>\n",
       "      <td>0.33</td>\n",
       "      <td>AU/ml</td>\n",
       "      <td>&lt;=0.90</td>\n",
       "    </tr>\n",
       "    <tr>\n",
       "      <th>...</th>\n",
       "      <td>...</td>\n",
       "      <td>...</td>\n",
       "      <td>...</td>\n",
       "      <td>...</td>\n",
       "      <td>...</td>\n",
       "      <td>...</td>\n",
       "      <td>...</td>\n",
       "      <td>...</td>\n",
       "    </tr>\n",
       "    <tr>\n",
       "      <th>2062</th>\n",
       "      <td>265360</td>\n",
       "      <td>05/06/2020</td>\n",
       "      <td>HOSP</td>\n",
       "      <td>PCR em tempo real para detecÃ§Ã£o de Coron</td>\n",
       "      <td>Resultado COVID-19:</td>\n",
       "      <td>NÃ£o detectado</td>\n",
       "      <td>NaN</td>\n",
       "      <td>NÃ£o detectado</td>\n",
       "    </tr>\n",
       "    <tr>\n",
       "      <th>2063</th>\n",
       "      <td>265360</td>\n",
       "      <td>05/06/2020</td>\n",
       "      <td>HOSP</td>\n",
       "      <td>Sorologia SARS-CoV-2/COVID19 IgG/IgM</td>\n",
       "      <td>COVID IgM Interp</td>\n",
       "      <td>NÃ£o reagente</td>\n",
       "      <td>NaN</td>\n",
       "      <td>NaN</td>\n",
       "    </tr>\n",
       "    <tr>\n",
       "      <th>2064</th>\n",
       "      <td>265360</td>\n",
       "      <td>05/06/2020</td>\n",
       "      <td>HOSP</td>\n",
       "      <td>Sorologia SARS-CoV-2/COVID19 IgG/IgM</td>\n",
       "      <td>COVID IgG Interp</td>\n",
       "      <td>NÃ£o reagente</td>\n",
       "      <td>NaN</td>\n",
       "      <td>NaN</td>\n",
       "    </tr>\n",
       "    <tr>\n",
       "      <th>2065</th>\n",
       "      <td>265360</td>\n",
       "      <td>05/06/2020</td>\n",
       "      <td>HOSP</td>\n",
       "      <td>Sorologia SARS-CoV-2/COVID19 IgG/IgM</td>\n",
       "      <td>IgM, COVID19</td>\n",
       "      <td>0.77</td>\n",
       "      <td>AU/ml</td>\n",
       "      <td>&lt;=0.90</td>\n",
       "    </tr>\n",
       "    <tr>\n",
       "      <th>2066</th>\n",
       "      <td>265360</td>\n",
       "      <td>05/06/2020</td>\n",
       "      <td>HOSP</td>\n",
       "      <td>Sorologia SARS-CoV-2/COVID19 IgG/IgM</td>\n",
       "      <td>IgG, COVID19</td>\n",
       "      <td>0.79</td>\n",
       "      <td>AU/ml</td>\n",
       "      <td>&lt;=0.90</td>\n",
       "    </tr>\n",
       "  </tbody>\n",
       "</table>\n",
       "<p>2067 rows × 8 columns</p>\n",
       "</div>"
      ],
      "text/plain": [
       "      id_paciente   dt_coleta de_origem  \\\n",
       "0          202018  13/06/2020      HOSP   \n",
       "1          202025  11/05/2020      HOSP   \n",
       "2          202025  11/05/2020      HOSP   \n",
       "3          202025  11/05/2020      HOSP   \n",
       "4          202025  11/05/2020      HOSP   \n",
       "...           ...         ...       ...   \n",
       "2062       265360  05/06/2020      HOSP   \n",
       "2063       265360  05/06/2020      HOSP   \n",
       "2064       265360  05/06/2020      HOSP   \n",
       "2065       265360  05/06/2020      HOSP   \n",
       "2066       265360  05/06/2020      HOSP   \n",
       "\n",
       "                                        de_exame           de_analito  \\\n",
       "0     PCR em tempo real para detecÃ§Ã£o de Coron  Resultado COVID-19:   \n",
       "1           Sorologia SARS-CoV-2/COVID19 IgG/IgM         IgG, COVID19   \n",
       "2           Sorologia SARS-CoV-2/COVID19 IgG/IgM     COVID IgG Interp   \n",
       "3     PCR em tempo real para detecÃ§Ã£o de Coron  Resultado COVID-19:   \n",
       "4           Sorologia SARS-CoV-2/COVID19 IgG/IgM         IgM, COVID19   \n",
       "...                                          ...                  ...   \n",
       "2062  PCR em tempo real para detecÃ§Ã£o de Coron  Resultado COVID-19:   \n",
       "2063        Sorologia SARS-CoV-2/COVID19 IgG/IgM     COVID IgM Interp   \n",
       "2064        Sorologia SARS-CoV-2/COVID19 IgG/IgM     COVID IgG Interp   \n",
       "2065        Sorologia SARS-CoV-2/COVID19 IgG/IgM         IgM, COVID19   \n",
       "2066        Sorologia SARS-CoV-2/COVID19 IgG/IgM         IgG, COVID19   \n",
       "\n",
       "        de_resultado cd_unidade de_valor_referencia  \n",
       "0     NÃ£o detectado        NaN      NÃ£o detectado  \n",
       "1               0.07      AU/ml              <=0.90  \n",
       "2      NÃ£o reagente        NaN                 NaN  \n",
       "3     NÃ£o detectado        NaN      NÃ£o detectado  \n",
       "4               0.33      AU/ml              <=0.90  \n",
       "...              ...        ...                 ...  \n",
       "2062  NÃ£o detectado        NaN      NÃ£o detectado  \n",
       "2063   NÃ£o reagente        NaN                 NaN  \n",
       "2064   NÃ£o reagente        NaN                 NaN  \n",
       "2065            0.77      AU/ml              <=0.90  \n",
       "2066            0.79      AU/ml              <=0.90  \n",
       "\n",
       "[2067 rows x 8 columns]"
      ]
     },
     "execution_count": 10,
     "metadata": {},
     "output_type": "execute_result"
    }
   ],
   "source": [
    "einstein"
   ]
  }
 ],
 "metadata": {
  "kernelspec": {
   "display_name": "Python 3.8.1 64-bit",
   "language": "python",
   "name": "python38164bitb3ebfd1fa0594a1c9d5c617333c2c1a4"
  },
  "language_info": {
   "codemirror_mode": {
    "name": "ipython",
    "version": 3
   },
   "file_extension": ".py",
   "mimetype": "text/x-python",
   "name": "python",
   "nbconvert_exporter": "python",
   "pygments_lexer": "ipython3",
   "version": "3.8.3"
  }
 },
 "nbformat": 4,
 "nbformat_minor": 4
}
